{
 "cells": [
  {
   "cell_type": "markdown",
   "metadata": {},
   "source": [
    "# COVID19 SIR/SEIR Model"
   ]
  },
  {
   "cell_type": "markdown",
   "metadata": {},
   "source": [
    "### Goal \n",
    "Before, we had used a logistic model to predict the trajectory of the COVID19 Virus. This however, has many drawbacks:\n",
    "\n",
    "* Not enough factors are included (Social Distancing, Mobility between communities, etc.)\n",
    "* Not enough categories: doesn't give us more info than how many cases we're expected to have\n",
    "* Ill posed: Slight peturbations in sample data can lead to a drastic change in predicted data\n",
    "\n",
    "There exists a better approach to this, and it is called the SIR/SEIR (Susceptible, Exposed, Infected, Removed) model. This is a system of differential equations.\n",
    "\n",
    "For simplicity's sake, we'll start with the SIR model:\n",
    "$$\\frac{dS}{dt}=-\\beta*I*\\frac{S}{N}$$\n",
    "$$\\frac{dI}{dt}=\\beta*I*\\frac{S}{N}-\\gamma*I$$\n",
    "$$\\frac{dR}{dt}=\\gamma*I$$\n",
    "$$N=S+I+R$$\n",
    "\n",
    "### Fetching the Data\n",
    "Like the logistic fit, we'll gather data from JHU CSSE (Johns Hopkins University)"
   ]
  },
  {
   "cell_type": "code",
   "execution_count": null,
   "metadata": {},
   "outputs": [],
   "source": []
  }
 ],
 "metadata": {
  "kernelspec": {
   "display_name": "Python 3",
   "language": "python",
   "name": "python3"
  },
  "language_info": {
   "codemirror_mode": {
    "name": "ipython",
    "version": 3
   },
   "file_extension": ".py",
   "mimetype": "text/x-python",
   "name": "python",
   "nbconvert_exporter": "python",
   "pygments_lexer": "ipython3",
   "version": "3.7.1"
  }
 },
 "nbformat": 4,
 "nbformat_minor": 4
}
