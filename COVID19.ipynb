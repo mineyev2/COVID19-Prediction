{
 "cells": [
  {
   "cell_type": "markdown",
   "metadata": {},
   "source": [
    "# Covid19 Predictions"
   ]
  },
  {
   "cell_type": "markdown",
   "metadata": {},
   "source": [
    "### Goal\n",
    "We want to do a model fit on current data on the Covid19 Coronavirus to most accurately determine the future of this virus. If this is accurate, it could lead to better current decisions and precautions.\n",
    "\n",
    "### Part 1: Fetching the data\n",
    "The first part of this project is simply fetching the current data. On Github there is a self-updating JSON file with data collected by Johns Hopkins University's Center for Systems Science and Engineering (JHU CSSE), showing the number of deaths, cases, and recoveries by country for every date since January 22, 2020. Links can be found below:\n",
    "\n",
    "* https://github.com/CSSEGISandData/COVID-19\n",
    "* https://github.com/pomber/covid19"
   ]
  },
  {
   "cell_type": "code",
   "execution_count": 1,
   "metadata": {
    "scrolled": true
   },
   "outputs": [
    {
     "name": "stdout",
     "output_type": "stream",
     "text": [
      "2\n"
     ]
    }
   ],
   "source": [
    "import requests\n",
    "\n",
    "r = requests.get('https://pomber.github.io/covid19/timeseries.json')\n",
    "json_data = r.json()\n",
    "\n",
    "#This should print the number of confirmed cases in Thailand in January 22, 2020 \n",
    "print(json_data['Thailand'][0]['confirmed'])"
   ]
  },
  {
   "cell_type": "markdown",
   "metadata": {},
   "source": [
    "### Part 2: Worldwide Logistic Curve Fit\n",
    "So rather than starting by focusing on the worldwide number of active cases, given by subtracting the number of deaths and recoveries from the confirmed cases. Basically, if you are alive and currently infected with coronavirus, you are an active case.\n",
    "\n",
    "The numbers over time can then experience a logistic curve fit through a linear least squares system, thus giving us a rough estimate of a worldwide carrying capacity for the virus.\n",
    "\n",
    "The first step is to get the scatterplot of worldwide cases over time:"
   ]
  },
  {
   "cell_type": "code",
   "execution_count": 13,
   "metadata": {
    "scrolled": true
   },
   "outputs": [
    {
     "data": {
      "text/plain": [
       "<matplotlib.lines.Line2D at 0x1e69ed55c88>"
      ]
     },
     "execution_count": 13,
     "metadata": {},
     "output_type": "execute_result"
    },
    {
     "data": {
      "image/png": "[encoded data removed]",
      "text/plain": [
       "<Figure size 432x288 with 1 Axes>"
      ]
     },
     "metadata": {
      "needs_background": "light"
     },
     "output_type": "display_data"
    }
   ],
   "source": [
    "import matplotlib.pyplot as plt\n",
    "import matplotlib.axes as axis\n",
    "\n",
    "def worldwide(date_index):\n",
    "    total = 0\n",
    "    for key in json_data:\n",
    "        total = total + json_data[key][date_index]['confirmed']\n",
    "    return total\n",
    "\n",
    "worldwide_data = []\n",
    "for i in range(len(json_data['China'])):\n",
    "    worldwide_data.append(worldwide(i))\n",
    "\n",
    "plt.scatter(range(len(json_data['China'])), worldwide_data)\n",
    "plt.axvline(x = 21.5, linestyle = '--')"
   ]
  },
  {
   "cell_type": "markdown",
   "metadata": {},
   "source": [
    "However, here we have an interesting graph. It appears that this coronavirus had already experienced a wane and plateau. This means that the virus would have died out around 21 days after January 22, where the dashed line is.\n",
    "\n",
    "This jump is best explained by the outbreak in Italy in early-mid February, which means that the first logistic progression could have been in a localized scale, where as the continuing progression is after a globalized scale has been reached.\n",
    "\n",
    "To make sure that this is true, let us subtract Italy out of the curve, and isolate it to see if any ends meet:"
   ]
  },
  {
   "cell_type": "code",
   "execution_count": 15,
   "metadata": {},
   "outputs": [
    {
     "data": {
      "text/plain": [
       "<matplotlib.collections.PathCollection at 0x1e69edd8448>"
      ]
     },
     "execution_count": 15,
     "metadata": {},
     "output_type": "execute_result"
    },
    {
     "data": {
      "image/png": "[encoded data removed]",
      "text/plain": [
       "<Figure size 432x288 with 1 Axes>"
      ]
     },
     "metadata": {
      "needs_background": "light"
     },
     "output_type": "display_data"
    }
   ],
   "source": [
    "import matplotlib.pyplot as plt\n",
    "import matplotlib.axes as axis\n",
    "\n",
    "def worldwide_minus_italy(date_index):\n",
    "    total = 0\n",
    "    for key in json_data:\n",
    "        if (key != 'Italy'):\n",
    "            total = total + json_data[key][date_index]['confirmed']\n",
    "    return total\n",
    "\n",
    "worldwide_minus_italy_data = []\n",
    "for i in range(len(json_data['China'])):\n",
    "    worldwide_minus_italy_data.append(worldwide_minus_italy(i))\n",
    "\n",
    "plt.scatter(range(len(json_data['China'])), worldwide_minus_italy_data)"
   ]
  },
  {
   "cell_type": "code",
   "execution_count": 17,
   "metadata": {},
   "outputs": [
    {
     "data": {
      "text/plain": [
       "<matplotlib.collections.PathCollection at 0x1e69ee37e48>"
      ]
     },
     "execution_count": 17,
     "metadata": {},
     "output_type": "execute_result"
    },
    {
     "data": {
      "image/png": "[encoded data removed]",
      "text/plain": [
       "<Figure size 432x288 with 1 Axes>"
      ]
     },
     "metadata": {
      "needs_background": "light"
     },
     "output_type": "display_data"
    }
   ],
   "source": [
    "def italy(date_index):\n",
    "    return json_data['Italy'][date_index]['confirmed']\n",
    "\n",
    "italy_data = []\n",
    "for i in range(len(json_data['China'])):\n",
    "    italy_data.append(italy(i))\n",
    "\n",
    "plt.scatter(range(len(json_data['China'])), italy_data)"
   ]
  },
  {
   "cell_type": "markdown",
   "metadata": {},
   "source": [
    "So.., it appears that Italy isn't the source of the jump. Lets loop through and see which country has the highest difference between day 21 and 22, and plot the curve for that country."
   ]
  },
  {
   "cell_type": "code",
   "execution_count": 18,
   "metadata": {},
   "outputs": [
    {
     "name": "stdout",
     "output_type": "stream",
     "text": [
      "China\n"
     ]
    }
   ],
   "source": [
    "max_difference = 0\n",
    "jump_country = ''\n",
    "\n",
    "for key in json_data:\n",
    "    if (json_data[key][22]['confirmed'] - json_data[key][21]['confirmed'] > max_difference):\n",
    "        max_difference = json_data[key][22]['confirmed'] - json_data[key][21]['confirmed']\n",
    "        jump_country = key\n",
    "\n",
    "print(jump_country)"
   ]
  },
  {
   "cell_type": "code",
   "execution_count": 19,
   "metadata": {},
   "outputs": [
    {
     "data": {
      "text/plain": [
       "<matplotlib.collections.PathCollection at 0x1e69fe6aac8>"
      ]
     },
     "execution_count": 19,
     "metadata": {},
     "output_type": "execute_result"
    },
    {
     "data": {
      "image/png": "[encoded data removed]",
      "text/plain": [
       "<Figure size 432x288 with 1 Axes>"
      ]
     },
     "metadata": {
      "needs_background": "light"
     },
     "output_type": "display_data"
    }
   ],
   "source": [
    "def china(date_index):\n",
    "    return json_data['China'][date_index]['confirmed']\n",
    "\n",
    "china_data = []\n",
    "for i in range(len(json_data['China'])):\n",
    "    china_data.append(china(i))\n",
    "\n",
    "plt.scatter(range(len(json_data['China'])), china_data)"
   ]
  },
  {
   "cell_type": "markdown",
   "metadata": {},
   "source": [
    "So it turns out, the source of the jump is in China! The benefit here of subtracting china out, is that they are already reaching their carrying capacity. So to put this in the worst way possible, the Coronavirus has become the rest of the world's problem. Lets then see what the curve looks like if we focus only outside mainland China:"
   ]
  },
  {
   "cell_type": "code",
   "execution_count": 20,
   "metadata": {},
   "outputs": [
    {
     "data": {
      "text/plain": [
       "<matplotlib.collections.PathCollection at 0x1e69fed8488>"
      ]
     },
     "execution_count": 20,
     "metadata": {},
     "output_type": "execute_result"
    },
    {
     "data": {
      "image/png": "[encoded data removed]",
      "text/plain": [
       "<Figure size 432x288 with 1 Axes>"
      ]
     },
     "metadata": {
      "needs_background": "light"
     },
     "output_type": "display_data"
    }
   ],
   "source": [
    "def outside_mainland_china(date_index):\n",
    "    total = 0\n",
    "    for key in json_data:\n",
    "        if (key != 'China'):\n",
    "            total = total + json_data[key][date_index]['confirmed']\n",
    "    return total\n",
    "\n",
    "outside_mainland_china_data = []\n",
    "for i in range(len(json_data['China'])):\n",
    "    outside_mainland_china_data.append(outside_mainland_china(i))\n",
    "\n",
    "plt.scatter(range(len(json_data['China'])), outside_mainland_china_data)"
   ]
  },
  {
   "cell_type": "markdown",
   "metadata": {},
   "source": [
    "So it looks like when we subtract China, the growth pattern is much smoother. This allows for a simple logistic curve fit on the rest of the world's data. This can easily be done with a non-linear least squares fit."
   ]
  },
  {
   "cell_type": "code",
   "execution_count": 21,
   "metadata": {},
   "outputs": [
    {
     "name": "stderr",
     "output_type": "stream",
     "text": [
      "C:\\Users\\Ramav\\anaconda3\\lib\\site-packages\\ipykernel_launcher.py:7: RuntimeWarning: overflow encountered in exp\n",
      "  import sys\n",
      "C:\\Users\\Ramav\\anaconda3\\lib\\site-packages\\scipy\\optimize\\minpack.py:808: OptimizeWarning: Covariance of the parameters could not be estimated\n",
      "  category=OptimizeWarning)\n"
     ]
    },
    {
     "data": {
      "text/plain": [
       "[<matplotlib.lines.Line2D at 0x1e69ff1a908>]"
      ]
     },
     "execution_count": 21,
     "metadata": {},
     "output_type": "execute_result"
    },
    {
     "data": {
      "image/png": "[encoded data removed]",
      "text/plain": [
       "<Figure size 432x288 with 1 Axes>"
      ]
     },
     "metadata": {
      "needs_background": "light"
     },
     "output_type": "display_data"
    }
   ],
   "source": [
    "import numpy as np\n",
    "import scipy.optimize as opt\n",
    "import matplotlib.pyplot as plt\n",
    "%matplotlib inline\n",
    "\n",
    "def f(x, a, b, c, d):\n",
    "    return a / (1. + np.exp(-c * (x - d))) + b\n",
    "\n",
    "(a_, b_, c_, d_), _ = opt.curve_fit(f, range(len(json_data['China'])), outside_mainland_china_data)\n",
    "y_fit = f(range(len(json_data['China'])), a_, b_, c_, d_)\n",
    "\n",
    "plt.scatter(range(len(json_data['China'])), outside_mainland_china_data)\n",
    "plt.plot(range(len(json_data['China'])), y_fit, '-')"
   ]
  },
  {
   "cell_type": "code",
   "execution_count": null,
   "metadata": {},
   "outputs": [],
   "source": []
  }
 ],
 "metadata": {
  "kernelspec": {
   "display_name": "Python 3",
   "language": "python",
   "name": "python3"
  },
  "language_info": {
   "codemirror_mode": {
    "name": "ipython",
    "version": 3
   },
   "file_extension": ".py",
   "mimetype": "text/x-python",
   "name": "python",
   "nbconvert_exporter": "python",
   "pygments_lexer": "ipython3",
   "version": "3.7.6"
  }
 },
 "nbformat": 4,
 "nbformat_minor": 4
}
